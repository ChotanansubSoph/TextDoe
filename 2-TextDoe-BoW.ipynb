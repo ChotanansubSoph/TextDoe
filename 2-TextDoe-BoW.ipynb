{
  "nbformat": 4,
  "nbformat_minor": 0,
  "metadata": {
    "colab": {
      "name": "AIB_TNC_BoW_2500_splited.ipynb",
      "provenance": [],
      "toc_visible": true
    },
    "kernelspec": {
      "name": "python3",
      "display_name": "Python 3"
    },
    "language_info": {
      "name": "python"
    }
  },
  "cells": [
    {
      "cell_type": "markdown",
      "source": [
        "# Resoure Preparation"
      ],
      "metadata": {
        "id": "_8C2S-7cMCHo"
      }
    },
    {
      "cell_type": "markdown",
      "source": [
        "### Setup Library"
      ],
      "metadata": {
        "id": "pF789WUKMLah"
      }
    },
    {
      "cell_type": "code",
      "execution_count": null,
      "metadata": {
        "colab": {
          "base_uri": "https://localhost:8080/"
        },
        "id": "06krfgOrz5oh",
        "outputId": "ba6afeb3-e4c7-4990-85d8-7a0c76cf3c31"
      },
      "outputs": [
        {
          "output_type": "stream",
          "name": "stdout",
          "text": [
            "\u001b[K     |████████████████████████████████| 4.6 MB 3.8 MB/s \n",
            "\u001b[K     |████████████████████████████████| 511.7 MB 5.8 kB/s \n",
            "\u001b[K     |████████████████████████████████| 5.8 MB 27.9 MB/s \n",
            "\u001b[K     |████████████████████████████████| 438 kB 52.4 MB/s \n",
            "\u001b[K     |████████████████████████████████| 1.6 MB 42.2 MB/s \n",
            "\u001b[K     |████████████████████████████████| 11.5 MB 3.3 MB/s \n",
            "\u001b[K     |████████████████████████████████| 965 kB 4.3 MB/s \n",
            "\u001b[?25h"
          ]
        }
      ],
      "source": [
        "!pip -q install tensorflow_text\n",
        "!pip -q install pythainlp \n",
        "!pip -q install python-crfsuite"
      ]
    },
    {
      "cell_type": "code",
      "source": [
        "import pandas as pd\n",
        "import numpy as np\n",
        "from pythainlp import word_tokenize\n",
        "import re\n",
        "\n",
        "import gdown"
      ],
      "metadata": {
        "id": "QpK1Qrqw0C5E"
      },
      "execution_count": null,
      "outputs": []
    },
    {
      "cell_type": "markdown",
      "source": [
        "### Download Dataset"
      ],
      "metadata": {
        "id": "p_WCnFoUMXyl"
      }
    },
    {
      "cell_type": "code",
      "source": [
        "driveURL = \"https://drive.google.com/file/d/1SxotuRhV8QE_sPWCVJS0m4csgL4xTgj5/view?usp=sharing\"\n",
        "downloadURL = 'https://drive.google.com/uc?export=download&id='+driveURL.split('/')[-2]\n",
        "gdown.download(downloadURL)"
      ],
      "metadata": {
        "colab": {
          "base_uri": "https://localhost:8080/"
        },
        "id": "cJrVDyF90E3H",
        "outputId": "2ab169f7-7171-44b1-ec64-aca31b65f381"
      },
      "execution_count": null,
      "outputs": [
        {
          "output_type": "stream",
          "name": "stderr",
          "text": [
            "Downloading...\n",
            "From: https://drive.google.com/uc?export=download&id=1SxotuRhV8QE_sPWCVJS0m4csgL4xTgj5\n",
            "To: /content/TNC_DataSet_2500.zip\n",
            "100%|██████████| 11.6M/11.6M [00:00<00:00, 61.7MB/s]\n"
          ]
        },
        {
          "output_type": "execute_result",
          "data": {
            "text/plain": [
              "'TNC_DataSet_2500.zip'"
            ],
            "application/vnd.google.colaboratory.intrinsic+json": {
              "type": "string"
            }
          },
          "metadata": {},
          "execution_count": 3
        }
      ]
    },
    {
      "cell_type": "code",
      "source": [
        "driveURL = \"https://drive.google.com/file/d/1SSGqkBELTKHAy4M0yVXRBcFuCNOC-DTa/view?usp=sharing\"\n",
        "downloadURL = 'https://drive.google.com/uc?export=download&id='+driveURL.split('/')[-2]\n",
        "gdown.download(downloadURL)"
      ],
      "metadata": {
        "colab": {
          "base_uri": "https://localhost:8080/"
        },
        "id": "bQqtlsJ4gor4",
        "outputId": "f497b618-5643-4f76-fde8-c01ac8e04b26"
      },
      "execution_count": null,
      "outputs": [
        {
          "output_type": "stream",
          "name": "stderr",
          "text": [
            "Downloading...\n",
            "From: https://drive.google.com/uc?export=download&id=1SSGqkBELTKHAy4M0yVXRBcFuCNOC-DTa\n",
            "To: /content/TNC_TestSet_5000.csv\n",
            "100%|██████████| 27.3M/27.3M [00:00<00:00, 226MB/s]\n"
          ]
        },
        {
          "output_type": "execute_result",
          "data": {
            "text/plain": [
              "'TNC_TestSet_5000.csv'"
            ],
            "application/vnd.google.colaboratory.intrinsic+json": {
              "type": "string"
            }
          },
          "metadata": {},
          "execution_count": 4
        }
      ]
    },
    {
      "cell_type": "code",
      "source": [
        "!unzip TNC_DataSet_2500.zip"
      ],
      "metadata": {
        "colab": {
          "base_uri": "https://localhost:8080/"
        },
        "id": "8W8KhaPC1vFR",
        "outputId": "e59f2220-2123-4314-8cf6-399466df5af9"
      },
      "execution_count": null,
      "outputs": [
        {
          "output_type": "stream",
          "name": "stdout",
          "text": [
            "Archive:  TNC_DataSet_2500.zip\n",
            "  inflating: dataset_info.txt        \n",
            "  inflating: TNC_TestSet_2500.csv    \n",
            "  inflating: TNC_TrainSet_2500.csv   \n",
            "  inflating: TNC_ValidationSet_2500.csv  \n"
          ]
        }
      ]
    },
    {
      "cell_type": "markdown",
      "source": [
        "# Data Preprocessing"
      ],
      "metadata": {
        "id": "OHGw1zgCMnKV"
      }
    },
    {
      "cell_type": "code",
      "source": [
        "train_df = pd.read_csv(\"TNC_TrainSet_2500.csv\")\n",
        "valid_df = pd.read_csv(\"TNC_ValidationSet_2500.csv\")\n",
        "\n",
        "test_df = pd.read_csv(\"TNC_TestSet_5000.csv\")"
      ],
      "metadata": {
        "id": "e24poYs70H2R"
      },
      "execution_count": null,
      "outputs": []
    },
    {
      "cell_type": "code",
      "source": [
        "len(test_df)"
      ],
      "metadata": {
        "colab": {
          "base_uri": "https://localhost:8080/"
        },
        "id": "JAghrHVw3n9n",
        "outputId": "e34db623-cde8-462b-a59d-a47881ff2a5e"
      },
      "execution_count": null,
      "outputs": [
        {
          "output_type": "execute_result",
          "data": {
            "text/plain": [
              "5400"
            ]
          },
          "metadata": {},
          "execution_count": 7
        }
      ]
    },
    {
      "cell_type": "code",
      "source": [
        "all_df = pd.concat([train_df,valid_df,test_df]).reset_index(drop=True)"
      ],
      "metadata": {
        "id": "HXr8chAB0LJl"
      },
      "execution_count": null,
      "outputs": []
    },
    {
      "cell_type": "code",
      "source": [
        "def replace_url(text):\n",
        "    URL_PATTERN = r\"\"\"(?i)\\b((?:https?:(?:/{1,3}|[a-z0-9%])|[a-z0-9.\\-]+[.](?:com|net|org|edu|gov|mil|aero|asia|biz|cat|coop|info|int|jobs|mobi|museum|name|post|pro|tel|travel|xxx|ac|ad|ae|af|ag|ai|al|am|an|ao|aq|ar|as|at|au|aw|ax|az|ba|bb|bd|be|bf|bg|bh|bi|bj|bm|bn|bo|br|bs|bt|bv|bw|by|bz|ca|cc|cd|cf|cg|ch|ci|ck|cl|cm|cn|co|cr|cs|cu|cv|cx|cy|cz|dd|de|dj|dk|dm|do|dz|ec|ee|eg|eh|er|es|et|eu|fi|fj|fk|fm|fo|fr|ga|gb|gd|ge|gf|gg|gh|gi|gl|gm|gn|gp|gq|gr|gs|gt|gu|gw|gy|hk|hm|hn|hr|ht|hu|id|ie|il|im|in|io|iq|ir|is|it|je|jm|jo|jp|ke|kg|kh|ki|km|kn|kp|kr|kw|ky|kz|la|lb|lc|li|lk|lr|ls|lt|lu|lv|ly|ma|mc|md|me|mg|mh|mk|ml|mm|mn|mo|mp|mq|mr|ms|mt|mu|mv|mw|mx|my|mz|na|nc|ne|nf|ng|ni|nl|no|np|nr|nu|nz|om|pa|pe|pf|pg|ph|pk|pl|pm|pn|pr|ps|pt|pw|py|qa|re|ro|rs|ru|rw|sa|sb|sc|sd|se|sg|sh|si|sj|Ja|sk|sl|sm|sn|so|sr|ss|st|su|sv|sx|sy|sz|tc|td|tf|tg|th|tj|tk|tl|tm|tn|to|tp|tr|tt|tv|tw|tz|ua|ug|uk|us|uy|uz|va|vc|ve|vg|vi|vn|vu|wf|ws|ye|yt|yu|za|zm|zw)/)(?:[^\\s()<>{}\\[\\]]+|\\([^\\s()]*?\\([^\\s()]+\\)[^\\s()]*?\\)|\\([^\\s]+?\\))+(?:\\([^\\s()]*?\\([^\\s()]+\\)[^\\s()]*?\\)|\\([^\\s]+?\\)|[^\\s`!()\\[\\]{};:'\".,<>?«»“”‘’])|(?:(?<!@)[a-z0-9]+(?:[.\\-][a-z0-9]+)*[.](?:com|net|org|edu|gov|mil|aero|asia|biz|cat|coop|info|int|jobs|mobi|museum|name|post|pro|tel|travel|xxx|ac|ad|ae|af|ag|ai|al|am|an|ao|aq|ar|as|at|au|aw|ax|az|ba|bb|bd|be|bf|bg|bh|bi|bj|bm|bn|bo|br|bs|bt|bv|bw|by|bz|ca|cc|cd|cf|cg|ch|ci|ck|cl|cm|cn|co|cr|cs|cu|cv|cx|cy|cz|dd|de|dj|dk|dm|do|dz|ec|ee|eg|eh|er|es|et|eu|fi|fj|fk|fm|fo|fr|ga|gb|gd|ge|gf|gg|gh|gi|gl|gm|gn|gp|gq|gr|gs|gt|gu|gw|gy|hk|hm|hn|hr|ht|hu|id|ie|il|im|in|io|iq|ir|is|it|je|jm|jo|jp|ke|kg|kh|ki|km|kn|kp|kr|kw|ky|kz|la|lb|lc|li|lk|lr|ls|lt|lu|lv|ly|ma|mc|md|me|mg|mh|mk|ml|mm|mn|mo|mp|mq|mr|ms|mt|mu|mv|mw|mx|my|mz|na|nc|ne|nf|ng|ni|nl|no|np|nr|nu|nz|om|pa|pe|pf|pg|ph|pk|pl|pm|pn|pr|ps|pt|pw|py|qa|re|ro|rs|ru|rw|sa|sb|sc|sd|se|sg|sh|si|sj|Ja|sk|sl|sm|sn|so|sr|ss|st|su|sv|sx|sy|sz|tc|td|tf|tg|th|tj|tk|tl|tm|tn|to|tp|tr|tt|tv|tw|tz|ua|ug|uk|us|uy|uz|va|vc|ve|vg|vi|vn|vu|wf|ws|ye|yt|yu|za|zm|zw)\\b/?(?!@)))\"\"\"\n",
        "    return re.sub(URL_PATTERN, 'xxurl', text)\n",
        "\n",
        "def replace_rep(text):\n",
        "    def _replace_rep(m):\n",
        "        c,cc = m.groups()\n",
        "        return f'{c}xxrep'\n",
        "    re_rep = re.compile(r'(\\S)(\\1{2,})')\n",
        "    return re_rep.sub(_replace_rep, text)\n",
        "\n",
        "def process_text(text):\n",
        "    #pre rules\n",
        "    res = text.lower().strip() \n",
        "    res = replace_url(res)\n",
        "    res = replace_rep(res) \n",
        "    \n",
        "    #tokenize\n",
        "    res = [word for word in word_tokenize(res) if word and not re.search(pattern=r\"\\s+\", string=word)]\n",
        "    return res\n",
        "    \n",
        "DOMAIN_DICT = {\n",
        "      0 : 'Imaginative',\n",
        "      1 : 'Natural & Pure Science',\n",
        "      2 : 'Applied Science',\n",
        "      3 : 'Social Science ',\n",
        "      4 : 'History',\n",
        "      5 : 'Commerce & Finance',\n",
        "      6 : 'Arts',\n",
        "      7 : 'Belief & Thought'\n",
        "  }"
      ],
      "metadata": {
        "id": "we9uFX6u0NW-"
      },
      "execution_count": null,
      "outputs": []
    },
    {
      "cell_type": "code",
      "source": [
        "#Data Preprocessing\n",
        "train_df['Processed'] = train_df.Texts.map(lambda x: '|'.join(process_text(x)))\n",
        "valid_df['Processed'] = valid_df.Texts.map(lambda x: '|'.join(process_text(x)))\n",
        "test_df['Processed'] = test_df.Texts.map(lambda x: '|'.join(process_text(x)))\n",
        "\n",
        "#Shuffle Row\n",
        "train_df = train_df.sample(frac=1,random_state=69).reset_index(drop=True)\n",
        "valid_df = valid_df.sample(frac=1,random_state=69).reset_index(drop=True)\n",
        "test_df = test_df.sample(frac=1,random_state=69).reset_index(drop=True)"
      ],
      "metadata": {
        "id": "ycedadBS0Nxg"
      },
      "execution_count": null,
      "outputs": []
    },
    {
      "cell_type": "markdown",
      "source": [
        "# Train a Bag of Words"
      ],
      "metadata": {
        "id": "vqOr1e2PNH4P"
      }
    },
    {
      "cell_type": "markdown",
      "source": [
        "### Set up Traning Variable "
      ],
      "metadata": {
        "id": "1sjVaYt5M10W"
      }
    },
    {
      "cell_type": "code",
      "source": [
        "from sklearn.feature_extraction.text import TfidfVectorizer\n",
        "from sklearn.linear_model import LogisticRegression\n",
        "\n",
        "tfidf = TfidfVectorizer(tokenizer=process_text, ngram_range=(1,2), min_df=30, max_df=0.8, sublinear_tf=True)\n",
        "tfidf_fit = tfidf.fit(all_df['Texts'])\n",
        "text_train = tfidf_fit.transform(train_df['Texts'])\n",
        "text_valid = tfidf_fit.transform(valid_df['Texts'])\n",
        "text_test = tfidf_fit.transform(test_df['Texts'])\n",
        "text_train.shape, text_valid.shape\n",
        "\n",
        "y_train = train_df['Category']\n",
        "y_valid = valid_df['Category']\n",
        "y_test = test_df['Category']\n",
        "\n",
        "\n",
        "text_train.shape, text_valid.shape, text_test.shape"
      ],
      "metadata": {
        "colab": {
          "base_uri": "https://localhost:8080/"
        },
        "id": "CIakXEr80YUt",
        "outputId": "67f9a028-c21f-4288-d7a1-160986e487ef"
      },
      "execution_count": null,
      "outputs": [
        {
          "output_type": "stream",
          "name": "stderr",
          "text": [
            "/usr/local/lib/python3.7/dist-packages/sklearn/feature_extraction/text.py:517: UserWarning: The parameter 'token_pattern' will not be used since 'tokenizer' is not None'\n",
            "  \"The parameter 'token_pattern' will not be used\"\n"
          ]
        },
        {
          "output_type": "execute_result",
          "data": {
            "text/plain": [
              "((12600, 40681), (2696, 40681), (5400, 40681))"
            ]
          },
          "metadata": {},
          "execution_count": 11
        }
      ]
    },
    {
      "cell_type": "code",
      "source": [
        "X_train = text_train.toarray()\n",
        "X_valid = text_valid.toarray()\n",
        "X_test = text_test.toarray()\n",
        "X_train.shape, X_valid.shape, X_test.shape"
      ],
      "metadata": {
        "colab": {
          "base_uri": "https://localhost:8080/"
        },
        "id": "AwRxccJF0aIe",
        "outputId": "8bec4bca-1b77-42c3-e64d-1ee02459051c"
      },
      "execution_count": null,
      "outputs": [
        {
          "output_type": "execute_result",
          "data": {
            "text/plain": [
              "((12600, 40681), (2696, 40681), (5400, 40681))"
            ]
          },
          "metadata": {},
          "execution_count": 12
        }
      ]
    },
    {
      "cell_type": "markdown",
      "source": [
        "### Fit data to model "
      ],
      "metadata": {
        "id": "FZEi__62NAaL"
      }
    },
    {
      "cell_type": "code",
      "source": [
        "model = LogisticRegression(C=2., penalty='l2', solver='liblinear', dual=False, multi_class='ovr')\n",
        "model.fit(X_train,y_train)\n",
        "model.score(X_valid,y_valid)"
      ],
      "metadata": {
        "colab": {
          "base_uri": "https://localhost:8080/"
        },
        "id": "3BPqeaaT0c8s",
        "outputId": "7aa4b6d1-3311-47ea-af15-b734798efa35"
      },
      "execution_count": null,
      "outputs": [
        {
          "output_type": "execute_result",
          "data": {
            "text/plain": [
              "0.8501483679525222"
            ]
          },
          "metadata": {},
          "execution_count": 13
        }
      ]
    },
    {
      "cell_type": "code",
      "source": [
        "model.score(X_test,y_test)"
      ],
      "metadata": {
        "colab": {
          "base_uri": "https://localhost:8080/"
        },
        "id": "zNDc3f1w0evE",
        "outputId": "4a21ef22-7752-471d-cf37-d67446dc6474"
      },
      "execution_count": null,
      "outputs": [
        {
          "output_type": "execute_result",
          "data": {
            "text/plain": [
              "0.6453703703703704"
            ]
          },
          "metadata": {},
          "execution_count": 14
        }
      ]
    },
    {
      "cell_type": "markdown",
      "source": [
        "# Model Evaluation"
      ],
      "metadata": {
        "id": "yLY4v2S3Nc7R"
      }
    },
    {
      "cell_type": "markdown",
      "source": [
        "### Evaluate on validation set "
      ],
      "metadata": {
        "id": "PflING3NNkbF"
      }
    },
    {
      "cell_type": "code",
      "source": [
        "from sklearn.metrics import classification_report\n",
        "y_val_pred = model.predict(X_valid)\n",
        "y_val_true = np.array(y_valid)\n",
        "print(classification_report(y_valid, y_val_pred))"
      ],
      "metadata": {
        "colab": {
          "base_uri": "https://localhost:8080/"
        },
        "id": "bD3kuwS00fKt",
        "outputId": "59a2633c-2512-4932-aaf6-178c701f92f5"
      },
      "execution_count": null,
      "outputs": [
        {
          "output_type": "stream",
          "name": "stdout",
          "text": [
            "                        precision    recall  f1-score   support\n",
            "\n",
            "       Applied Science       0.89      0.92      0.90       337\n",
            "                  Arts       0.78      0.70      0.74       337\n",
            "      Belief & Thought       0.92      0.85      0.88       337\n",
            "    Commerce & Finance       0.97      0.97      0.97       337\n",
            "               History       0.94      1.00      0.97       337\n",
            "           Imaginative       0.77      1.00      0.87       337\n",
            "Natural & Pure Science       0.75      0.58      0.65       337\n",
            "       Social Science        0.77      0.78      0.78       337\n",
            "\n",
            "              accuracy                           0.85      2696\n",
            "             macro avg       0.85      0.85      0.85      2696\n",
            "          weighted avg       0.85      0.85      0.85      2696\n",
            "\n"
          ]
        }
      ]
    },
    {
      "cell_type": "code",
      "source": [
        "sorted_y_class = ['Applied Science',\n",
        "                  'Arts',\n",
        "                  'Belief & Thought',\n",
        "                  'Commerce & Finance',\n",
        "                  'History',\n",
        "                  'Imaginative',\n",
        "                  'Natural & Pure Science',\n",
        "                  'Social Science', ]"
      ],
      "metadata": {
        "id": "QhLuE4hqV_T-"
      },
      "execution_count": null,
      "outputs": []
    },
    {
      "cell_type": "code",
      "source": [
        "#confusion matrix\n",
        "import numpy\n",
        "import matplotlib\n",
        "import matplotlib.pyplot as plt\n",
        "from sklearn.metrics import confusion_matrix, ConfusionMatrixDisplay\n",
        "from matplotlib.pyplot import figure\n",
        "\n",
        "cm = confusion_matrix(y_val_true, y_val_pred)\n",
        "cm"
      ],
      "metadata": {
        "colab": {
          "base_uri": "https://localhost:8080/"
        },
        "id": "epFWcU-RV_WP",
        "outputId": "8905e2a3-9a57-4ec2-809f-9ac9371603cb"
      },
      "execution_count": null,
      "outputs": [
        {
          "output_type": "execute_result",
          "data": {
            "text/plain": [
              "array([[310,   0,   0,   0,   0,   0,   4,  23],\n",
              "       [  0, 236,   9,   0,   2,  23,  49,  18],\n",
              "       [  0,   4, 287,   0,   0,  37,   7,   2],\n",
              "       [  1,   0,   0, 326,   0,   0,   0,  10],\n",
              "       [  0,   0,   0,   1, 336,   0,   0,   0],\n",
              "       [  0,   0,   0,   0,   0, 337,   0,   0],\n",
              "       [ 38,  44,  12,   1,   0,  22, 196,  24],\n",
              "       [  0,  19,   4,   9,  18,  16,   7, 264]])"
            ]
          },
          "metadata": {},
          "execution_count": 17
        }
      ]
    },
    {
      "cell_type": "code",
      "source": [
        "disp = ConfusionMatrixDisplay(confusion_matrix=cm,\n",
        "                              display_labels=sorted_y_class)\n",
        "\n",
        "font = {'family' : 'normal',\n",
        "        'size'   : 14}\n",
        "\n",
        "matplotlib.rc('font', **font)\n",
        "\n",
        "figure(figsize=(100, 300), dpi=1000)\n",
        "disp.plot()\n",
        "plt.xticks(rotation='vertical')\n",
        "plt.show()"
      ],
      "metadata": {
        "colab": {
          "base_uri": "https://localhost:8080/"
        },
        "id": "9-3XCZVhV_YM",
        "outputId": "05f69a27-7778-43de-9889-8ccba4c98681"
      },
      "execution_count": null,
      "outputs": [
        {
          "output_type": "display_data",
          "data": {
            "text/plain": [
              "<Figure size 100000x300000 with 0 Axes>"
            ]
          },
          "metadata": {}
        },
        {
          "output_type": "stream",
          "name": "stderr",
          "text": [
            "findfont: Font family ['normal'] not found. Falling back to DejaVu Sans.\n"
          ]
        },
        {
          "output_type": "display_data",
          "data": {
            "text/plain": [
              "<Figure size 432x288 with 2 Axes>"
            ],
            "image/png": "[encoded data removed]"
          },
          "metadata": {
            "needs_background": "light"
          }
        }
      ]
    },
    {
      "cell_type": "markdown",
      "source": [
        "### Evaluate on test set "
      ],
      "metadata": {
        "id": "7UH7gk4TNubD"
      }
    },
    {
      "cell_type": "code",
      "source": [
        "y_test_pred = model.predict(X_test)\n",
        "y_test_true = np.array(y_test)\n",
        "print(classification_report(y_test, y_test_pred))"
      ],
      "metadata": {
        "colab": {
          "base_uri": "https://localhost:8080/"
        },
        "id": "OtB-SBCNgxL6",
        "outputId": "3a05ac00-bccf-46f4-8d0f-8686d75e0a72"
      },
      "execution_count": null,
      "outputs": [
        {
          "output_type": "stream",
          "name": "stdout",
          "text": [
            "                        precision    recall  f1-score   support\n",
            "\n",
            "       Applied Science       0.78      0.47      0.59       675\n",
            "                  Arts       0.54      0.55      0.54       675\n",
            "      Belief & Thought       0.88      0.83      0.86       675\n",
            "    Commerce & Finance       0.76      0.93      0.83       675\n",
            "               History       0.73      0.19      0.30       675\n",
            "           Imaginative       0.66      0.97      0.78       675\n",
            "Natural & Pure Science       0.52      0.48      0.50       675\n",
            "       Social Science        0.49      0.75      0.59       675\n",
            "\n",
            "              accuracy                           0.65      5400\n",
            "             macro avg       0.67      0.65      0.62      5400\n",
            "          weighted avg       0.67      0.65      0.62      5400\n",
            "\n"
          ]
        }
      ]
    },
    {
      "cell_type": "code",
      "source": [
        "#confusion matrix\n",
        "new_cm = confusion_matrix(y_test_true, y_test_pred)\n",
        "new_cm"
      ],
      "metadata": {
        "colab": {
          "base_uri": "https://localhost:8080/"
        },
        "id": "t94f_iN6gxN-",
        "outputId": "75924c4e-2600-4194-cb09-504f1bb5e041"
      },
      "execution_count": null,
      "outputs": [
        {
          "output_type": "execute_result",
          "data": {
            "text/plain": [
              "array([[318,   5,   0,  75,   4,   2, 223,  48],\n",
              "       [  8, 369,  35,   4,   3, 110,  17, 129],\n",
              "       [  0,   9, 562,   0,   0,  53,  51,   0],\n",
              "       [  3,   0,   1, 627,   8,   0,   1,  35],\n",
              "       [  0, 121,  12, 100, 125,  19,   0, 298],\n",
              "       [  0,  13,   3,   0,   0, 653,   3,   3],\n",
              "       [ 63, 121,  14,   1,   1, 126, 324,  25],\n",
              "       [ 16,  49,  12,  20,  30,  32,   9, 507]])"
            ]
          },
          "metadata": {},
          "execution_count": 20
        }
      ]
    },
    {
      "cell_type": "code",
      "source": [
        "disp = ConfusionMatrixDisplay(confusion_matrix=new_cm,\n",
        "                              display_labels=sorted_y_class)\n",
        "\n",
        "font = {'family' : 'normal',\n",
        "        'size'   : 14}\n",
        "\n",
        "matplotlib.rc('font', **font)\n",
        "\n",
        "figure(figsize=(100, 300), dpi=1000)\n",
        "disp.plot()\n",
        "plt.xticks(rotation='vertical')\n",
        "plt.show()"
      ],
      "metadata": {
        "colab": {
          "base_uri": "https://localhost:8080/",
          "height": 452
        },
        "id": "VJb1T0G9gxQM",
        "outputId": "ee6a1b60-7b74-4b6a-eff8-2207ab412463"
      },
      "execution_count": null,
      "outputs": [
        {
          "output_type": "display_data",
          "data": {
            "text/plain": [
              "<Figure size 100000x300000 with 0 Axes>"
            ]
          },
          "metadata": {}
        },
        {
          "output_type": "display_data",
          "data": {
            "text/plain": [
              "<Figure size 432x288 with 2 Axes>"
            ],
            "image/png": "[encoded data removed]"
          },
          "metadata": {
            "needs_background": "light"
          }
        }
      ]
    },
    {
      "cell_type": "code",
      "source": [
        "y_test_pred = model.predict(X_test)\n",
        "print(classification_report(y_test, y_test_pred))"
      ],
      "metadata": {
        "colab": {
          "base_uri": "https://localhost:8080/"
        },
        "id": "-N9uz6ki0hc9",
        "outputId": "de4f8ab9-7ecf-4d06-ae65-e3939ef70a95"
      },
      "execution_count": null,
      "outputs": [
        {
          "output_type": "stream",
          "name": "stdout",
          "text": [
            "                        precision    recall  f1-score   support\n",
            "\n",
            "       Applied Science       0.78      0.47      0.59       675\n",
            "                  Arts       0.54      0.55      0.54       675\n",
            "      Belief & Thought       0.88      0.83      0.86       675\n",
            "    Commerce & Finance       0.76      0.93      0.83       675\n",
            "               History       0.73      0.19      0.30       675\n",
            "           Imaginative       0.66      0.97      0.78       675\n",
            "Natural & Pure Science       0.52      0.48      0.50       675\n",
            "       Social Science        0.49      0.75      0.59       675\n",
            "\n",
            "              accuracy                           0.65      5400\n",
            "             macro avg       0.67      0.65      0.62      5400\n",
            "          weighted avg       0.67      0.65      0.62      5400\n",
            "\n"
          ]
        }
      ]
    },
    {
      "cell_type": "markdown",
      "source": [
        "# Model testing"
      ],
      "metadata": {
        "id": "l7m9rnCjNzn_"
      }
    },
    {
      "cell_type": "code",
      "source": [
        "sample = [\n",
        "          'ไอโซโทปที่พบมากที่สุดของไฮโดรเจน คือ โปรเทียม (ชื่อพบใช้น้อย สัญลักษณ์ 1H) ซึ่งมีโปรตอนหนึ่งตัวแต่ไม่มีนิวตรอน ในสารประกอบไอออนิก โปรเทียมสามารถรับประจุลบ (แอนไอออนซึ่งมีชื่อว่า ไฮไดรด์ และเขียนสัญลักษณ์ได้เป็น H-)',\n",
        "          'ปอบ เป็นผีจำพวกหนึ่ง ที่อยู่ในความเชื่อพื้นบ้านของไทย โดยเฉพาะในภาคอีสาน โดยเชื่อกันว่าเป็นผีที่กินของดิบ ๆ สด ๆ กินเท่าไหร่ก็ไม่อิ่ม',\n",
        "          'แสดงความยินดีกับนายชัชชาติ สิทธิพันธุ์ ที่ได้รับความไว้วางใจจากพี่น้องชาวกรุงเทพมหานคร เลือกเป็นผู้ว่าราชการกรุงเทพมหานคร'\n",
        "          ]\n",
        "\n",
        "sample_feature = tfidf_fit.transform(sample)\n",
        "model.predict(sample_feature)"
      ],
      "metadata": {
        "colab": {
          "base_uri": "https://localhost:8080/"
        },
        "id": "srFedhtU0jEK",
        "outputId": "5e167056-2ce3-43b4-ba8d-c79e6e96cc5d"
      },
      "execution_count": null,
      "outputs": [
        {
          "output_type": "execute_result",
          "data": {
            "text/plain": [
              "array(['Applied Science', 'Belief & Thought', 'Commerce & Finance'],\n",
              "      dtype=object)"
            ]
          },
          "metadata": {},
          "execution_count": 23
        }
      ]
    },
    {
      "cell_type": "code",
      "source": [
        "sample = [\n",
        "          'ต้นโกงกาง เป็นต้นไม้ที่เติมโตในบริเวณป่าชายเลนที่ใกล้กับทะเล เป็นต้นที่ช่วยให้ระบบนิเวศป่าโกงกางมีความอุดมสมบูรณ์อย่างมาก และพบเจอหลายสายพันธุ์',\n",
        "          'ม้านิลมังกร หรือ ม้ามังกร สัตว์ประหลาดในวรรณคดีไทยเรื่องพระอภัยมณี ตามจินตนาการของสุนทรภู่ เป็นพาหนะของสุดสาคร',\n",
        "          'สกุลเงินดิจิทัล หรือ คริปโตเคอร์เรนซี คือ สินทรัพย์ดิจิทัล ประเภทหนึ่งที่มีการรักษาความปลอดภัยด้วยการเข้ารหัส ถูกออกแบบมาเพื่อใช้เป็นสื่อกลางในการแลกเปลี่ยนเช่นเดียวกับสกุลเงินทั่วไป เพียงแต่ไม่สามารถจับต้องได้'\n",
        "          ]\n",
        "\n",
        "sample_feature = tfidf_fit.transform(sample)\n",
        "model.predict(sample_feature)"
      ],
      "metadata": {
        "colab": {
          "base_uri": "https://localhost:8080/"
        },
        "id": "_zCIks5V6M_7",
        "outputId": "c9fdc504-2411-40c9-d2a8-34726ef49d1a"
      },
      "execution_count": null,
      "outputs": [
        {
          "output_type": "execute_result",
          "data": {
            "text/plain": [
              "array(['Natural & Pure Science', 'Arts', 'Commerce & Finance'],\n",
              "      dtype=object)"
            ]
          },
          "metadata": {},
          "execution_count": 24
        }
      ]
    }
  ]
}