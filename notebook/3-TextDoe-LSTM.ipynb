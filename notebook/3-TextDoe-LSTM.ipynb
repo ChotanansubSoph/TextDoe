{
  "cells": [
    {
      "cell_type": "markdown",
      "source": [
        "# Resoure Preparation"
      ],
      "metadata": {
        "id": "s-Tb4wpOOZ-F"
      }
    },
    {
      "cell_type": "markdown",
      "source": [
        "### Drive Mount"
      ],
      "metadata": {
        "id": "lyg54VvgOkdM"
      }
    },
    {
      "cell_type": "code",
      "execution_count": null,
      "metadata": {
        "colab": {
          "base_uri": "https://localhost:8080/"
        },
        "id": "ysNqS8IY0Idc",
        "outputId": "a0d38cca-fe9d-484a-c558-5f175428a2f4"
      },
      "outputs": [
        {
          "output_type": "stream",
          "name": "stdout",
          "text": [
            "Mounted at /content/drive\n"
          ]
        }
      ],
      "source": [
        "from google.colab import drive\n",
        "drive.mount('/content/drive',force_remount=True)"
      ]
    },
    {
      "cell_type": "markdown",
      "source": [
        "### Setup Library"
      ],
      "metadata": {
        "id": "p2l9CALjOoOa"
      }
    },
    {
      "cell_type": "code",
      "execution_count": null,
      "metadata": {
        "colab": {
          "base_uri": "https://localhost:8080/"
        },
        "id": "A4nXVQ_jyZbg",
        "outputId": "3b5f545a-8c2e-4f7e-8183-30f058d2fa72"
      },
      "outputs": [
        {
          "output_type": "stream",
          "name": "stdout",
          "text": [
            "\u001b[K     |████████████████████████████████| 4.6 MB 5.1 MB/s \n",
            "\u001b[K     |████████████████████████████████| 511.7 MB 6.4 kB/s \n",
            "\u001b[K     |████████████████████████████████| 438 kB 65.8 MB/s \n",
            "\u001b[K     |████████████████████████████████| 1.6 MB 52.8 MB/s \n",
            "\u001b[K     |████████████████████████████████| 5.8 MB 25.3 MB/s \n",
            "\u001b[K     |████████████████████████████████| 11.5 MB 937 kB/s \n",
            "\u001b[K     |████████████████████████████████| 965 kB 4.8 MB/s \n",
            "\u001b[?25h"
          ]
        }
      ],
      "source": [
        "!pip -q install tensorflow_text\n",
        "!pip -q install pythainlp \n",
        "!pip -q install python-crfsuite"
      ]
    },
    {
      "cell_type": "code",
      "execution_count": null,
      "metadata": {
        "id": "y6oWkgLVpADc"
      },
      "outputs": [],
      "source": [
        "import pandas as pd\n",
        "import numpy as np\n",
        "\n",
        "from pythainlp import word_tokenize\n",
        "import re\n",
        "\n",
        "import gdown\n",
        "from google.colab import drive"
      ]
    },
    {
      "cell_type": "code",
      "execution_count": null,
      "metadata": {
        "colab": {
          "base_uri": "https://localhost:8080/"
        },
        "id": "FzxV2lLFysBP",
        "outputId": "7700011e-e140-4dc7-836f-a1cb961a72c7"
      },
      "outputs": [
        {
          "output_type": "stream",
          "name": "stderr",
          "text": [
            "Downloading...\n",
            "From: https://drive.google.com/uc?export=download&id=1ShyXkcRa-Yl2xDtdUqebBmwBEC_AhqH1\n",
            "To: /content/TNC_DataSet_5000_V1.zip\n",
            "100%|██████████| 46.9M/46.9M [00:00<00:00, 205MB/s]\n"
          ]
        },
        {
          "output_type": "stream",
          "name": "stdout",
          "text": [
            "Archive:  TNC_DataSet_5000_V1.zip\n",
            "  inflating: dataset_info.txt        \n",
            "  inflating: TNC_AllDomain_5000.csv  \n",
            "  inflating: TNC_TestSet_5000.csv    \n",
            "  inflating: TNC_TrainSet_5000.csv   \n",
            "  inflating: TNC_ValidationSet_5000.csv  \n"
          ]
        }
      ],
      "source": [
        "driveURL = \"https://drive.google.com/file/d/1ShyXkcRa-Yl2xDtdUqebBmwBEC_AhqH1/view?usp=sharing\"\n",
        "downloadURL = 'https://drive.google.com/uc?export=download&id='+driveURL.split('/')[-2]\n",
        "gdown.download(downloadURL)\n",
        "!unzip TNC_DataSet_5000_V1.zip"
      ]
    },
    {
      "cell_type": "markdown",
      "source": [
        "# Data Preprocessing"
      ],
      "metadata": {
        "id": "iDXel_gTPGcx"
      }
    },
    {
      "cell_type": "code",
      "execution_count": null,
      "metadata": {
        "id": "p_SZjvvEy8l_"
      },
      "outputs": [],
      "source": [
        "def replace_url(text):\n",
        "    URL_PATTERN = r\"\"\"(?i)\\b((?:https?:(?:/{1,3}|[a-z0-9%])|[a-z0-9.\\-]+[.](?:com|net|org|edu|gov|mil|aero|asia|biz|cat|coop|info|int|jobs|mobi|museum|name|post|pro|tel|travel|xxx|ac|ad|ae|af|ag|ai|al|am|an|ao|aq|ar|as|at|au|aw|ax|az|ba|bb|bd|be|bf|bg|bh|bi|bj|bm|bn|bo|br|bs|bt|bv|bw|by|bz|ca|cc|cd|cf|cg|ch|ci|ck|cl|cm|cn|co|cr|cs|cu|cv|cx|cy|cz|dd|de|dj|dk|dm|do|dz|ec|ee|eg|eh|er|es|et|eu|fi|fj|fk|fm|fo|fr|ga|gb|gd|ge|gf|gg|gh|gi|gl|gm|gn|gp|gq|gr|gs|gt|gu|gw|gy|hk|hm|hn|hr|ht|hu|id|ie|il|im|in|io|iq|ir|is|it|je|jm|jo|jp|ke|kg|kh|ki|km|kn|kp|kr|kw|ky|kz|la|lb|lc|li|lk|lr|ls|lt|lu|lv|ly|ma|mc|md|me|mg|mh|mk|ml|mm|mn|mo|mp|mq|mr|ms|mt|mu|mv|mw|mx|my|mz|na|nc|ne|nf|ng|ni|nl|no|np|nr|nu|nz|om|pa|pe|pf|pg|ph|pk|pl|pm|pn|pr|ps|pt|pw|py|qa|re|ro|rs|ru|rw|sa|sb|sc|sd|se|sg|sh|si|sj|Ja|sk|sl|sm|sn|so|sr|ss|st|su|sv|sx|sy|sz|tc|td|tf|tg|th|tj|tk|tl|tm|tn|to|tp|tr|tt|tv|tw|tz|ua|ug|uk|us|uy|uz|va|vc|ve|vg|vi|vn|vu|wf|ws|ye|yt|yu|za|zm|zw)/)(?:[^\\s()<>{}\\[\\]]+|\\([^\\s()]*?\\([^\\s()]+\\)[^\\s()]*?\\)|\\([^\\s]+?\\))+(?:\\([^\\s()]*?\\([^\\s()]+\\)[^\\s()]*?\\)|\\([^\\s]+?\\)|[^\\s`!()\\[\\]{};:'\".,<>?«»“”‘’])|(?:(?<!@)[a-z0-9]+(?:[.\\-][a-z0-9]+)*[.](?:com|net|org|edu|gov|mil|aero|asia|biz|cat|coop|info|int|jobs|mobi|museum|name|post|pro|tel|travel|xxx|ac|ad|ae|af|ag|ai|al|am|an|ao|aq|ar|as|at|au|aw|ax|az|ba|bb|bd|be|bf|bg|bh|bi|bj|bm|bn|bo|br|bs|bt|bv|bw|by|bz|ca|cc|cd|cf|cg|ch|ci|ck|cl|cm|cn|co|cr|cs|cu|cv|cx|cy|cz|dd|de|dj|dk|dm|do|dz|ec|ee|eg|eh|er|es|et|eu|fi|fj|fk|fm|fo|fr|ga|gb|gd|ge|gf|gg|gh|gi|gl|gm|gn|gp|gq|gr|gs|gt|gu|gw|gy|hk|hm|hn|hr|ht|hu|id|ie|il|im|in|io|iq|ir|is|it|je|jm|jo|jp|ke|kg|kh|ki|km|kn|kp|kr|kw|ky|kz|la|lb|lc|li|lk|lr|ls|lt|lu|lv|ly|ma|mc|md|me|mg|mh|mk|ml|mm|mn|mo|mp|mq|mr|ms|mt|mu|mv|mw|mx|my|mz|na|nc|ne|nf|ng|ni|nl|no|np|nr|nu|nz|om|pa|pe|pf|pg|ph|pk|pl|pm|pn|pr|ps|pt|pw|py|qa|re|ro|rs|ru|rw|sa|sb|sc|sd|se|sg|sh|si|sj|Ja|sk|sl|sm|sn|so|sr|ss|st|su|sv|sx|sy|sz|tc|td|tf|tg|th|tj|tk|tl|tm|tn|to|tp|tr|tt|tv|tw|tz|ua|ug|uk|us|uy|uz|va|vc|ve|vg|vi|vn|vu|wf|ws|ye|yt|yu|za|zm|zw)\\b/?(?!@)))\"\"\"\n",
        "    return re.sub(URL_PATTERN, 'xxurl', text)\n",
        "\n",
        "def replace_rep(text):\n",
        "    def _replace_rep(m):\n",
        "        c,cc = m.groups()\n",
        "        return f'{c}xxrep'\n",
        "    re_rep = re.compile(r'(\\S)(\\1{2,})')\n",
        "    return re_rep.sub(_replace_rep, text)\n",
        "\n",
        "def process_text(text):\n",
        "    #pre rules\n",
        "    res = text.lower().strip() # 'AAAA'\n",
        "    res = replace_url(res)\n",
        "    res = replace_rep(res) # 'แมวนอนกินปลา' => 'แมว นอน กิน ปลา'\n",
        "    \n",
        "    #tokenize\n",
        "    res = [word for word in word_tokenize(res) if word and not re.search(pattern=r\"\\s+\", string=word)]\n",
        "    return res\n",
        "    \n",
        "DOMAIN_DICT = {\n",
        "      0 : 'Imaginative',\n",
        "      1 : 'Natural & Pure Science',\n",
        "      2 : 'Applied Science',\n",
        "      3 : 'Social Science ',\n",
        "      4 : 'History',\n",
        "      5 : 'Commerce & Finance',\n",
        "      6 : 'Arts',\n",
        "      7 : 'Belief & Thought'\n",
        "  }"
      ]
    },
    {
      "cell_type": "code",
      "execution_count": null,
      "metadata": {
        "id": "65vFUp5Cy-09"
      },
      "outputs": [],
      "source": [
        "train_df = pd.read_csv(\"TNC_TrainSet_5000.csv\")\n",
        "valid_df = pd.read_csv(\"TNC_ValidationSet_5000.csv\")\n",
        "test_df = pd.read_csv(\"TNC_TestSet_5000.csv\")\n",
        "all_df = pd.concat([train_df,valid_df,test_df]).reset_index(drop=True)\n",
        "\n",
        "#Data Preprocessing\n",
        "train_df['Processed'] = train_df.Texts.map(lambda x: '|'.join(process_text(x)))\n",
        "valid_df['Processed'] = valid_df.Texts.map(lambda x: '|'.join(process_text(x)))\n",
        "test_df['Processed'] = test_df.Texts.map(lambda x: '|'.join(process_text(x)))\n",
        "\n",
        "#Shuffle Row\n",
        "train_df = train_df.sample(frac=1,random_state=69).reset_index(drop=True)\n",
        "valid_df = valid_df.sample(frac=1,random_state=69).reset_index(drop=True)\n",
        "test_df = test_df.sample(frac=1,random_state=69).reset_index(drop=True)"
      ]
    },
    {
      "cell_type": "markdown",
      "source": [
        "# Train a Long Short-Term Moemory (LSTM) Model"
      ],
      "metadata": {
        "id": "7wObK6k6PJ5l"
      }
    },
    {
      "cell_type": "code",
      "execution_count": null,
      "metadata": {
        "colab": {
          "base_uri": "https://localhost:8080/"
        },
        "id": "ZQbXaapXzK8S",
        "outputId": "5508efe5-2c9c-484d-de66-8bda7bf15cd7"
      },
      "outputs": [
        {
          "output_type": "execute_result",
          "data": {
            "text/plain": [
              "(['สังคีต', 'ลักษณ์', 'รอน', 'โด', 'ของ'], 57480)"
            ]
          },
          "metadata": {},
          "execution_count": 7
        }
      ],
      "source": [
        "import tensorflow as tf \n",
        "\n",
        "\n",
        "text_train = [' '.join(x.split('|')) for x in train_df['Processed'].values.tolist()]\n",
        "text_valid = [' '.join(x.split('|')) for x in valid_df['Processed'].values.tolist()]\n",
        "text_test = [' '.join(x.split('|')) for x in test_df['Processed'].values.tolist()]\n",
        "\n",
        "word_count = []\n",
        "for sent in text_train:\n",
        "  for w in sent.split():\n",
        "      word_count.append(w)\n",
        "\n",
        "\n",
        "VOCAB_SIZE = len(set(word_count))\n",
        "encoder = tf.keras.layers.TextVectorization(max_tokens=VOCAB_SIZE)\n",
        "encoder.adapt(text_train)\n",
        "\n",
        "vocab = np.array(encoder.get_vocabulary())\n",
        "\n",
        "word_count[:5], VOCAB_SIZE "
      ]
    },
    {
      "cell_type": "code",
      "execution_count": null,
      "metadata": {
        "colab": {
          "base_uri": "https://localhost:8080/"
        },
        "id": "Zdw-SeVyz6p3",
        "outputId": "297d7043-b492-4ad5-c69f-edbc38f404a0"
      },
      "outputs": [
        {
          "output_type": "execute_result",
          "data": {
            "text/plain": [
              "['Imaginative',\n",
              " 'Natural & Pure Science',\n",
              " 'Applied Science',\n",
              " 'Social Science ',\n",
              " 'History',\n",
              " 'Commerce & Finance',\n",
              " 'Arts',\n",
              " 'Belief & Thought']"
            ]
          },
          "metadata": {},
          "execution_count": 8
        }
      ],
      "source": [
        "y_train = train_df['Category']\n",
        "y_valid = valid_df['Category']\n",
        "y_test = test_df['Category']\n",
        "y_class = list(DOMAIN_DICT.values())\n",
        "y_class"
      ]
    },
    {
      "cell_type": "code",
      "execution_count": null,
      "metadata": {
        "colab": {
          "base_uri": "https://localhost:8080/"
        },
        "id": "wCw0YN2Y0Bjg",
        "outputId": "ee14f620-3af1-48c8-c5d1-6a722fae495e"
      },
      "outputs": [
        {
          "output_type": "stream",
          "name": "stdout",
          "text": [
            "(25200, 8)\n"
          ]
        }
      ],
      "source": [
        "from sklearn import preprocessing\n",
        "from tensorflow.keras.utils import to_categorical\n",
        "\n",
        "le = preprocessing.LabelEncoder()\n",
        "le.fit(y_class)\n",
        "y_train = le.transform(y_train)\n",
        "y_val = le.transform(y_valid)\n",
        "y_train = to_categorical(y_train)\n",
        "y_val = to_categorical(y_val)\n",
        "print(y_train.shape)"
      ]
    },
    {
      "cell_type": "code",
      "execution_count": null,
      "metadata": {
        "id": "5UHTSfPB0Hi4"
      },
      "outputs": [],
      "source": [
        "model = tf.keras.Sequential([\n",
        "    encoder,\n",
        "    tf.keras.layers.Embedding(\n",
        "        input_dim=len(encoder.get_vocabulary()),\n",
        "        output_dim=512,\n",
        "        # Use masking to handle the variable sequence lengths\n",
        "        mask_zero=True),\n",
        "    tf.keras.layers.Bidirectional(tf.keras.layers.LSTM(256)),\n",
        "    tf.keras.layers.Dense(128, activation='relu'),\n",
        "    tf.keras.layers.Dense(y_train.shape[1], activation='softmax')\n",
        "])\n",
        "\n",
        "model.compile(loss='categorical_crossentropy',\n",
        "              optimizer=tf.keras.optimizers.Adam(1e-4),\n",
        "              metrics=['accuracy'])"
      ]
    },
    {
      "cell_type": "code",
      "execution_count": null,
      "metadata": {
        "colab": {
          "base_uri": "https://localhost:8080/"
        },
        "id": "1Meja55S4r2Z",
        "outputId": "efbf8344-4c00-47da-c52e-62609630ca24"
      },
      "outputs": [
        {
          "output_type": "execute_result",
          "data": {
            "text/plain": [
              "201600"
            ]
          },
          "metadata": {},
          "execution_count": 11
        }
      ],
      "source": [
        "y_train.size"
      ]
    },
    {
      "cell_type": "code",
      "execution_count": null,
      "metadata": {
        "id": "Ifsy-Lqf3rSg"
      },
      "outputs": [],
      "source": [
        "EPOCHS = 5\n",
        "BATCH_SIZE = 250\n",
        "checkpoint_path = '/content/drive/MyDrive/Programs/AIB/TNC_LSTM_5000/checkpoint2/CP_{epoch:04d}.ckpt'\n",
        "\n",
        "STEPS_PER_EPOCH = y_train.size / BATCH_SIZE\n",
        "SAVE_PERIOD = 1\n",
        "\n",
        "# Create a callback that saves the model's weights every 2 epochs\n",
        "cp_callback = tf.keras.callbacks.ModelCheckpoint(filepath=checkpoint_path, \n",
        "                                                 verbose=1, \n",
        "                                                 save_weights_only=True,\n",
        "                                                 save_best_only = True,\n",
        "                                                 #save_freq= int(SAVE_PERIOD * STEPS_PER_EPOCH)\n",
        "                                                )\n",
        "\n",
        "# Train the model with the new callback\n",
        "def train_model():\n",
        "  model.fit(np.array(text_train),\n",
        "            y_train, \n",
        "            validation_data=(np.array(text_valid), y_val),\n",
        "            epochs=EPOCHS,\n",
        "            batch_size = BATCH_SIZE,\n",
        "            callbacks = [cp_callback],\n",
        "            verbose=2)"
      ]
    },
    {
      "cell_type": "code",
      "execution_count": null,
      "metadata": {
        "colab": {
          "base_uri": "https://localhost:8080/"
        },
        "id": "iIRGlx1Ab9Ki",
        "outputId": "e40443f1-2bde-4408-ed31-20ebbb079503"
      },
      "outputs": [
        {
          "output_type": "execute_result",
          "data": {
            "text/plain": [
              "<tensorflow.python.training.tracking.util.CheckpointLoadStatus at 0x7fd407c73bd0>"
            ]
          },
          "metadata": {},
          "execution_count": 13
        }
      ],
      "source": [
        "#Load Model \n",
        "model.load_weights('/content/drive/MyDrive/AIB/TNC_LSTM_5000/checkpoint2/CP-Lastest')"
      ]
    },
    {
      "cell_type": "code",
      "execution_count": null,
      "metadata": {
        "colab": {
          "base_uri": "https://localhost:8080/"
        },
        "id": "oVaBiT5mq75L",
        "outputId": "e4fc2d47-37e0-4da6-a4f0-30ccd894d884"
      },
      "outputs": [
        {
          "output_type": "stream",
          "name": "stdout",
          "text": [
            "Epoch 1/5\n",
            "\n",
            "Epoch 1: val_loss improved from inf to 1.68156, saving model to /content/drive/MyDrive/Programs/AIB/TNC_LSTM_5000/checkpoint2/CP_0001.ckpt\n",
            "101/101 - 3728s - loss: 0.0512 - accuracy: 0.9898 - val_loss: 1.6816 - val_accuracy: 0.7050 - 3728s/epoch - 37s/step\n",
            "Epoch 2/5\n",
            "\n",
            "Epoch 2: val_loss did not improve from 1.68156\n",
            "101/101 - 3706s - loss: 0.0457 - accuracy: 0.9900 - val_loss: 1.8314 - val_accuracy: 0.7059 - 3706s/epoch - 37s/step\n",
            "Epoch 3/5\n",
            "\n",
            "Epoch 3: val_loss did not improve from 1.68156\n",
            "101/101 - 3682s - loss: 0.0374 - accuracy: 0.9923 - val_loss: 1.8083 - val_accuracy: 0.7020 - 3682s/epoch - 36s/step\n",
            "Epoch 4/5\n",
            "\n",
            "Epoch 4: val_loss did not improve from 1.68156\n",
            "101/101 - 3715s - loss: 0.0318 - accuracy: 0.9932 - val_loss: 1.7369 - val_accuracy: 0.6930 - 3715s/epoch - 37s/step\n",
            "Epoch 5/5\n",
            "\n",
            "Epoch 5: val_loss improved from 1.68156 to 1.40053, saving model to /content/drive/MyDrive/Programs/AIB/TNC_LSTM_5000/checkpoint2/CP_0005.ckpt\n",
            "101/101 - 3728s - loss: 0.0795 - accuracy: 0.9817 - val_loss: 1.4005 - val_accuracy: 0.7174 - 3728s/epoch - 37s/step\n"
          ]
        }
      ],
      "source": [
        "train_model()\n",
        "model.save_weights('/content/drive/MyDrive/Programs/AIB/TNC_LSTM_5000/checkpoint3/CP-Lastest')"
      ]
    },
    {
      "cell_type": "code",
      "execution_count": null,
      "metadata": {
        "colab": {
          "base_uri": "https://localhost:8080/"
        },
        "id": "Vs1GI0zD78qL",
        "outputId": "5326f4f0-e8f7-4a57-be1a-1dde8a202dd6"
      },
      "outputs": [
        {
          "output_type": "stream",
          "name": "stderr",
          "text": [
            "WARNING:absl:Found untraced functions such as lstm_cell_1_layer_call_fn, lstm_cell_1_layer_call_and_return_conditional_losses, lstm_cell_2_layer_call_fn, lstm_cell_2_layer_call_and_return_conditional_losses while saving (showing 4 of 4). These functions will not be directly callable after loading.\n"
          ]
        },
        {
          "output_type": "stream",
          "name": "stdout",
          "text": [
            "INFO:tensorflow:Assets written to: /content/drive/MyDrive/Programs/AIB/TNC_LSTM_5000/saved_model/my_model/assets\n"
          ]
        },
        {
          "output_type": "stream",
          "name": "stderr",
          "text": [
            "INFO:tensorflow:Assets written to: /content/drive/MyDrive/Programs/AIB/TNC_LSTM_5000/saved_model/my_model/assets\n"
          ]
        }
      ],
      "source": [
        "!mkdir -p saved_model\n",
        "model.save('/content/drive/MyDrive/Programs/AIB/TNC_LSTM_5000/saved_model/my_model')"
      ]
    },
    {
      "cell_type": "markdown",
      "source": [
        "# Model Evaluation"
      ],
      "metadata": {
        "id": "nxmTwrbYPXJO"
      }
    },
    {
      "cell_type": "markdown",
      "source": [
        "### Evaluate on validation set "
      ],
      "metadata": {
        "id": "OCF9_aRePZuU"
      }
    },
    {
      "cell_type": "code",
      "execution_count": null,
      "metadata": {
        "colab": {
          "base_uri": "https://localhost:8080/"
        },
        "id": "QG6fEwCA8Pj7",
        "outputId": "da7d0bce-526c-40db-e235-c78e031f72b9"
      },
      "outputs": [
        {
          "name": "stdout",
          "output_type": "stream",
          "text": [
            "85/85 [==============================] - 130s 2s/step\n",
            "              precision    recall  f1-score   support\n",
            "\n",
            "           0       0.66      0.56      0.61       337\n",
            "           1       0.65      0.37      0.48       337\n",
            "           2       0.55      0.78      0.64       337\n",
            "           3       0.82      0.93      0.87       337\n",
            "           4       0.95      0.98      0.97       337\n",
            "           5       0.94      0.86      0.90       337\n",
            "           6       0.61      0.68      0.64       337\n",
            "           7       0.74      0.72      0.73       337\n",
            "\n",
            "    accuracy                           0.74      2696\n",
            "   macro avg       0.74      0.74      0.73      2696\n",
            "weighted avg       0.74      0.74      0.73      2696\n",
            "\n"
          ]
        }
      ],
      "source": [
        "from sklearn.metrics import classification_report\n",
        "value = model.predict(np.array(text_valid))\n",
        "y_val_pred = np.argmax(value,axis=1)\n",
        "y_val_true = np.argmax(y_val,axis=1)\n",
        "print(classification_report(y_val_true, y_val_pred))"
      ]
    },
    {
      "cell_type": "code",
      "execution_count": null,
      "metadata": {
        "colab": {
          "base_uri": "https://localhost:8080/"
        },
        "id": "UfTHVwS786HD",
        "outputId": "b103a59d-98b7-4f76-a0f0-7b91dea8d399"
      },
      "outputs": [
        {
          "data": {
            "text/plain": [
              "array([[190,  49,  23,  29,   0,   0,  24,  22],\n",
              "       [ 58, 126,  63,   5,   0,   3,  62,  20],\n",
              "       [  3,   5, 263,   0,   0,  11,  52,   3],\n",
              "       [  1,   1,   0, 314,   0,   0,   0,  21],\n",
              "       [  0,   0,   0,   1, 331,   0,   0,   5],\n",
              "       [  0,   0,  45,   0,   0, 289,   3,   0],\n",
              "       [ 34,   4,  56,   2,   0,   1, 228,  12],\n",
              "       [  3,   8,  29,  33,  16,   2,   4, 242]])"
            ]
          },
          "execution_count": 21,
          "metadata": {},
          "output_type": "execute_result"
        }
      ],
      "source": [
        "#confusion matrix\n",
        "import numpy\n",
        "import matplotlib\n",
        "import matplotlib.pyplot as plt\n",
        "from sklearn.metrics import confusion_matrix, ConfusionMatrixDisplay\n",
        "from matplotlib.pyplot import figure\n",
        "\n",
        "\n",
        "cm = confusion_matrix(y_val_true, y_val_pred, labels=[0,1,2,3,4,5,6,7])\n",
        "cm"
      ]
    },
    {
      "cell_type": "code",
      "execution_count": null,
      "metadata": {
        "colab": {
          "base_uri": "https://localhost:8080/",
          "height": 470
        },
        "id": "BqqnFwptdtC6",
        "outputId": "74cb543c-3d11-468c-c08c-f86fd76666d3"
      },
      "outputs": [
        {
          "data": {
            "text/plain": [
              "<Figure size 100000x300000 with 0 Axes>"
            ]
          },
          "metadata": {},
          "output_type": "display_data"
        },
        {
          "name": "stderr",
          "output_type": "stream",
          "text": [
            "WARNING:matplotlib.font_manager:findfont: Font family ['normal'] not found. Falling back to DejaVu Sans.\n"
          ]
        },
        {
          "data": {
            "image/png": "[encoded data removed]",
            "text/plain": [
              "<Figure size 432x288 with 2 Axes>"
            ]
          },
          "metadata": {},
          "output_type": "display_data"
        }
      ],
      "source": [
        "disp = ConfusionMatrixDisplay(confusion_matrix=cm,\n",
        "                              display_labels=y_class)\n",
        "\n",
        "font = {'family' : 'normal',\n",
        "        'size'   : 14}\n",
        "\n",
        "matplotlib.rc('font', **font)\n",
        "\n",
        "figure(figsize=(100, 300), dpi=1000)\n",
        "disp.plot()\n",
        "plt.xticks(rotation='vertical')\n",
        "plt.show()"
      ]
    }
  ],
  "metadata": {
    "colab": {
      "collapsed_sections": [],
      "name": "AIB_TNC_LSTM_5000.ipynb",
      "provenance": [],
      "toc_visible": true
    },
    "kernelspec": {
      "display_name": "Python 3",
      "name": "python3"
    },
    "language_info": {
      "name": "python"
    }
  },
  "nbformat": 4,
  "nbformat_minor": 0
}